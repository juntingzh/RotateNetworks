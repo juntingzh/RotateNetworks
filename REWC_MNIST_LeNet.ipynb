{
 "cells": [
  {
   "cell_type": "markdown",
   "metadata": {},
   "source": [
    "# Ablation Study from \"Rotate your Networks: Better Weight Consolidation and Less Catastrophic Forgetting\", ICPR 2018\n",
    "\n",
    "This is our implementation of Elastic Weight Consolidation (EWC) in Tensorflow, which also allows to choose which layers use our proposed R-EWC modification, as seen in Table I of the article. The variable below is used to decide which layers of the LeNet network apply EWC (False), or our extended R-EWC (True)."
   ]
  },
  {
   "cell_type": "code",
   "execution_count": 1,
   "metadata": {},
   "outputs": [],
   "source": [
    "rotate_layer = [True, True, True, True, False]"
   ]
  },
  {
   "cell_type": "markdown",
   "metadata": {},
   "source": [
    "## Train LeNet for Disjoint MNIST tasks sequentially"
   ]
  },
  {
   "cell_type": "code",
   "execution_count": 2,
   "metadata": {},
   "outputs": [],
   "source": [
    "# automatically reload edited modules\n",
    "%load_ext autoreload\n",
    "%autoreload 2"
   ]
  },
  {
   "cell_type": "code",
   "execution_count": 3,
   "metadata": {},
   "outputs": [],
   "source": [
    "import tensorflow as tf\n",
    "import numpy as np\n",
    "from copy import deepcopy\n",
    "from tensorflow.examples.tutorials.mnist import input_data\n",
    "\n",
    "%matplotlib inline\n",
    "import matplotlib.pyplot as plt\n",
    "import matplotlib.image as mpimg\n",
    "from IPython import display\n",
    "from copy import deepcopy\n",
    "\n",
    "from utils.lenet_utils import LeNet\n",
    "from utils import mnist_utils\n",
    "from utils import plot_utils"
   ]
  },
  {
   "cell_type": "code",
   "execution_count": 4,
   "metadata": {},
   "outputs": [],
   "source": [
    "def train_task(sess, model, num_epochs, trainset, testsets, x, y_, lr, batch_size=100):\n",
    "\n",
    "    num_batch = int(np.floor(trainset.train.images.shape[0]/batch_size))\n",
    "    \n",
    "    # Reassign optimal weights from previous training session\n",
    "    model.restore(sess)\n",
    "    # Initialize test accuracy array for each task\n",
    "    test_accs = []\n",
    "    for task in range(len(testsets)):\n",
    "        test_accs.append(np.zeros(num_epochs))\n",
    "    # Train on current task\n",
    "    for epoch in range(num_epochs):\n",
    "        img = np.random.permutation(trainset.train.images.shape[0]) \n",
    "        for b in range(num_batch):\n",
    "            # randomly sample a batch of images, and corresponding labels\n",
    "            batch_x = trainset.train.images[img[b*batch_size:(b+1)*batch_size]]\n",
    "            batch_y = trainset.train.labels[img[b*batch_size:(b+1)*batch_size]]\n",
    "            one_hot_targets = np.eye(10)[batch_y]\n",
    "            # train batch\n",
    "            model.train_step.run(feed_dict={x: batch_x, y_: one_hot_targets})\n",
    "        # Plotting\n",
    "        plt.subplot(1, 1, 1)\n",
    "        plots = []\n",
    "        colors = ['r', 'b']\n",
    "        for task in range(len(testsets)):\n",
    "            feed_dict={x: testsets[task].test.images, y_: np.eye(10)[testsets[task].test.labels]}\n",
    "            test_accs[task][epoch] = model.accuracy.eval(feed_dict=feed_dict)\n",
    "            c = chr(ord('A') + task)\n",
    "            plot_h, = plt.plot(range(1,epoch+2), test_accs[task][:epoch+1], colors[task], label=\"task \" + c + \" (%1.2f)\" % test_accs[task][epoch])\n",
    "            plots.append(plot_h)\n",
    "        plot_utils.plot_test_acc(plots)\n",
    "        plt.gcf().set_size_inches(10, 7)\n",
    "\n",
    "    return test_accs"
   ]
  },
  {
   "cell_type": "code",
   "execution_count": 5,
   "metadata": {},
   "outputs": [
    {
     "name": "stdout",
     "output_type": "stream",
     "text": [
      "Extracting MNIST_data/train-images-idx3-ubyte.gz\n",
      "Extracting MNIST_data/train-labels-idx1-ubyte.gz\n",
      "Extracting MNIST_data/t10k-images-idx3-ubyte.gz\n",
      "Extracting MNIST_data/t10k-labels-idx1-ubyte.gz\n",
      "Training Set:   55000 samples\n",
      "Validation Set: 5000 samples\n",
      "Test Set:       10000 samples\n",
      "Labels: [7 3 4 ... 5 6 8]\n",
      "Original Image Shape: (28, 28, 1)\n",
      "Updated Image Shape: (32, 32, 1)\n",
      "MNIST-1 Image Shape: (32, 32, 1)\n",
      "MNIST-1 Labels: [0 1 2 3 4]\n",
      "MNIST-2 Labels: [5 6 7 8 9]\n"
     ]
    }
   ],
   "source": [
    "# Load the dataset and create the two groups of Disjoint MNIST\n",
    "mnist = mnist_utils.load_mnist_32x32()\n",
    "\n",
    "task1_num = [0,1,2,3,4]\n",
    "mnist1 = mnist_utils.disjoint_mnist(mnist, task1_num)\n",
    "print(\"MNIST-1 Image Shape: {}\".format(mnist1.train.images[0].shape))\n",
    "print(\"MNIST-1 Labels: {}\".format(np.unique(mnist1.train.labels)))\n",
    "\n",
    "task2_num = [5,6,7,8,9]\n",
    "mnist2 = mnist_utils.disjoint_mnist(mnist,task2_num)\n",
    "print(\"MNIST-2 Labels: {}\".format(np.unique(mnist2.train.labels)))"
   ]
  },
  {
   "cell_type": "code",
   "execution_count": 6,
   "metadata": {},
   "outputs": [],
   "source": [
    "# Set Parameters\n",
    "num_epochs0 = 5\n",
    "num_epochs1 = 5\n",
    "meta_lambda = 100\n",
    "num_samples = 40  #number of samples per class\n",
    "lr = 0.001"
   ]
  },
  {
   "cell_type": "code",
   "execution_count": 7,
   "metadata": {},
   "outputs": [],
   "source": [
    "tf.reset_default_graph()\n",
    "# define input and target placeholders\n",
    "x = tf.placeholder(tf.float32, shape=[None, 32, 32, 1])\n",
    "y_ = tf.placeholder(tf.float32, shape=[None, 10])\n",
    "# instantiate new model\n",
    "model = LeNet(x, y_, doDecom = rotate_layer)\n",
    "model.set_vanilla_loss(lr)\n",
    "# initialize variables\n",
    "sess = tf.InteractiveSession()\n",
    "sess.run(tf.global_variables_initializer())"
   ]
  },
  {
   "cell_type": "markdown",
   "metadata": {},
   "source": [
    "## Train on task 1, test on task 1"
   ]
  },
  {
   "cell_type": "code",
   "execution_count": 8,
   "metadata": {
    "scrolled": false
   },
   "outputs": [
    {
     "data": {
      "image/png": "[encoded data removed]",
      "text/plain": [
       "<Figure size 720x504 with 1 Axes>"
      ]
     },
     "metadata": {},
     "output_type": "display_data"
    }
   ],
   "source": [
    "# training 1st task\n",
    "test_accs0 = train_task(sess, model, num_epochs0, mnist1, [mnist1], x, y_, lr)\n",
    "model.star()"
   ]
  },
  {
   "cell_type": "markdown",
   "metadata": {},
   "source": [
    "## Apply EWC or R-EWC"
   ]
  },
  {
   "cell_type": "code",
   "execution_count": 9,
   "metadata": {},
   "outputs": [],
   "source": [
    "# Compute the M and L matrices as described in the article, and use them to calculate the rotations\n",
    "model.compute_M_L(mnist1.validation, sess, num_samples, eq_distrib=True)\n",
    "model.compute_svd(sess)"
   ]
  },
  {
   "cell_type": "code",
   "execution_count": 10,
   "metadata": {},
   "outputs": [],
   "source": [
    "tf.reset_default_graph()\n",
    "# Define input and target placeholders\n",
    "x = tf.placeholder(tf.float32, shape=[None, 32, 32, 1])\n",
    "y_ = tf.placeholder(tf.float32, shape=[None, 10])\n",
    "sess = tf.InteractiveSession()\n",
    "# Construct a new model\n",
    "model.rebuild_decom(x, y_)\n",
    "# Initialize variables\n",
    "sess.run(tf.global_variables_initializer())\n",
    "model.star()\n",
    "# Compute the Fisher Information necessary for the EWC loss term\n",
    "model.compute_fisher(mnist1.validation, sess, num_samples, eq_distrib=True)"
   ]
  },
  {
   "cell_type": "code",
   "execution_count": 11,
   "metadata": {},
   "outputs": [],
   "source": [
    "tf.reset_default_graph()\n",
    "# Define input and target placeholders\n",
    "x = tf.placeholder(tf.float32, shape=[None, 32, 32, 1])\n",
    "y_ = tf.placeholder(tf.float32, shape=[None, 10])\n",
    "# Construct a new model\n",
    "model.rebuild_decom(x, y_)\n",
    "model.update_ewc_loss(lr, meta_lambda, 5)\n",
    "# Initialize variables\n",
    "sess = tf.InteractiveSession()\n",
    "sess.run(tf.global_variables_initializer())"
   ]
  },
  {
   "cell_type": "markdown",
   "metadata": {},
   "source": [
    "## Train on task 1, test on tasks 1 and 2"
   ]
  },
  {
   "cell_type": "code",
   "execution_count": 12,
   "metadata": {},
   "outputs": [
    {
     "data": {
      "image/png": "[encoded data removed]",
      "text/plain": [
       "<Figure size 720x504 with 1 Axes>"
      ]
     },
     "metadata": {},
     "output_type": "display_data"
    }
   ],
   "source": [
    "# training 2nd task\n",
    "test_accs1 = train_task(sess, model, num_epochs1, mnist2, [mnist1, mnist2], x, y_, lr)"
   ]
  },
  {
   "cell_type": "code",
   "execution_count": null,
   "metadata": {},
   "outputs": [],
   "source": []
  }
 ],
 "metadata": {
  "anaconda-cloud": {},
  "kernelspec": {
   "display_name": "Python 2",
   "language": "python",
   "name": "python2"
  },
  "language_info": {
   "codemirror_mode": {
    "name": "ipython",
    "version": 2
   },
   "file_extension": ".py",
   "mimetype": "text/x-python",
   "name": "python",
   "nbconvert_exporter": "python",
   "pygments_lexer": "ipython2",
   "version": "2.7.15"
  }
 },
 "nbformat": 4,
 "nbformat_minor": 1
}
